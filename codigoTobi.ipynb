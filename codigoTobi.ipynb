import pandas as pd
import numpy as np

# 1. Read data. This part reads the txt file we got fromStefan. Change ‘Li Ion battery.txt’ with the file name you need (e.g.‘Palladium Wire/pellet)
data = pd.read_csv('Li Ion battery.txt', delimiter=';', decimal=',')

# 2. Clean column names
data.columns = data.columns.str.strip()

# 3. Extract relevant columns. Also here you might adjust the names of the colomns (this means the sting in the brackets of data[…])
time = data['Corrected time (s)'].values
current = data['WE(1).Current (A)'].values

# 4. Detect indices where time resets to zero (start of each step). You need to find away on your own here. You must find a way to define the upper and lower boundaries of your integration,. This are to specific time values in the colomn time in the txt file. Assign indices to the. Later on in my code they are called step_start indizes.

print("Detected step start indices:", step_start_indices)

# 5. For each step: integrate current and calculate duration
charges = []
durations = []

for i in range(len(step_start_indices) - 1): #gets starting point and end point of the range to be integrated
    start = step_start_indices[i]
    end = step_start_indices[i + 1]
    
    # Step data. Gets data in the chosen range and stores  it in the arrays step_time and step_current
    step_time = time[start:end]
    step_current = current[start:end]
    
    # Duration: difference between first and last time points (include first point)
    if len(step_time) > 1:
        duration = step_time[-1] - step_time[0]
    else:
        duration = 0.0  # Single-point edge case
    
    durations.append(duration)
    
    # Integration (exclude the first point at time == 0) Integrates to get charge
    step_time_integ = step_time[1:]
    step_current_integ = step_current[1:]
    
    if len(step_time_integ) > 0:
        Q = np.trapz(step_current_integ, step_time_integ)
    else:
        Q = 0.0
    
    charges.append(Q)
    
    print(f"Step {i+1}: Charge = {Q:.6f} C, Duration = {duration:.3f} s")

# 6. Store results
results_df = pd.DataFrame({
    'Step': np.arange(1, len(charges) + 1),
    'Charge (C)': charges,
    'Duration (s)': durations
})

results_df.to_csv('charges_and_durations.csv', index=False)
print("\nResults saved to 'charges_and_durations.csv'")
