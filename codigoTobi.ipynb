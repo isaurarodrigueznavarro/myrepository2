import pandas as pd
import numpy as np

data = pd.read_csv('PlatinumWire.txt', delimiter=';', decimal=',')

data.columns = data.columns.str.strip()

time = data['Corrected time (s)'].values
current = data['WE(1).Current (A)'].values

print("Detected step start indices:", step_start_indices)

charges = []
durations = []

for i in range(len(step_start_indices) - 1): #gets starting point and end point of the range to be integrated
    start = step_start_indices[i]
    end = step_start_indices[i + 1]
    
    step_time = time[start:end]
    step_current = current[start:end]
    
    if len(step_time) > 1:
        duration = step_time[-1] - step_time[0]
    else:
        duration = 0.0  # Single-point edge case
    
    durations.append(duration)
  
    step_time_integ = step_time[1:]
    step_current_integ = step_current[1:]
    
    if len(step_time_integ) > 0:
        Q = np.trapz(step_current_integ, step_time_integ)
    else:
        Q = 0.0
    
    charges.append(Q)
    
    print(f"Step {i+1}: Charge = {Q:.6f} C, Duration = {duration:.3f} s")

results_df = pd.DataFrame({
    'Step': np.arange(1, len(charges) + 1),
    'Charge (C)': charges,
    'Duration (s)': durations
})

results_df.to_csv('charges_and_durations.csv', index=False)
print("\nResults saved to 'charges_and_durations.csv'")
