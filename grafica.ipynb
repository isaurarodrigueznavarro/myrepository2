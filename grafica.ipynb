import matplotlib.pyplot as plt
import pandas as pd
def create_voltage_current_plot(data_file):
  try:
    df – pd.read_csv(data_file., sep=’;’)
    plt.figure(figsize-(10, 6))
    plt.plot(df[‘WE voltage’], df[WE current’], ‘b-’, label-’Voltage vs Current’
    plt.xlabel(‘WE Volatge (V)’)
    plt.ylabel(‘WE Current (A)’)
    plt.title(‘ voltage vs Current’)
    plt.grid(True, linestyle-’--’, alpha-0.7)
    plt.legend()
    plt.show()
    plt.savefig(‘voltage_current_plot.png’)
    return True
  excep Exception as e:
    print(f”Error creating plot: {str(e)}”)
    return False
if __name__ -- “__main__”:
  data_file - “PlatinumWire.txt” 
  create_voltage_current_plot(data_file)
