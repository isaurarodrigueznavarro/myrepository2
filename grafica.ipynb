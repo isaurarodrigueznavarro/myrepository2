Import matplotlib.pyplot as plt
Import pandas as pd
Def create_voltage_current_plot(data_file):
Try:
Df – pd.read_csv(data_file., sep=’;’)
Plt.figure(figsize-(10, 6))
Plt.plot(df[‘WE voltage’], df[WE current’], ‘b-’, label-’Voltage vs Current’
Plt.xlabel(‘WE Volatge (V)’)
Plt.ylabel(‘WE Current (A)’)
Plt.title(‘ voltage vs Current’)
Plt.grid(True, linestyle-’--’, alpha-0.7)
Plt.legend()
Plt.show()
plt.savefig(‘voltage_current_plot.png’)
Return True
Excep Exception as e:
Print(f”Error creating plot: {str(e)}”)
Return False
If __name__ -- “__main__”:
Data_file - “PlatinumWire.txt” 
Create_voltage_current_plot(data_file)
